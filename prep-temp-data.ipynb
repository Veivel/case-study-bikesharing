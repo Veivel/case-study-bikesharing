{
 "cells": [
  {
   "cell_type": "code",
   "execution_count": 338,
   "metadata": {},
   "outputs": [],
   "source": [
    "import pandas as pd\n",
    "import numpy as np\n",
    "import matplotlib.pyplot as plt\n",
    "import seaborn as sns\n",
    "\n",
    "import missingno as msno\n",
    "import itertools\n",
    "import os"
   ]
  },
  {
   "cell_type": "code",
   "execution_count": 339,
   "metadata": {},
   "outputs": [],
   "source": [
    "file = \"data/2021/raw-chicago-daily-max-temp.csv\"\n",
    "output = \"data/2021/chicago-daily-max-temp.csv\""
   ]
  },
  {
   "cell_type": "code",
   "execution_count": 340,
   "metadata": {},
   "outputs": [],
   "source": [
    "df = pd.read_csv(file, header=None, delimiter=\";\", index_col=0)\n",
    "df.drop(columns=[n for n in range(1,25) if n % 2 == 0], inplace=True)"
   ]
  },
  {
   "cell_type": "code",
   "execution_count": 341,
   "metadata": {},
   "outputs": [
    {
     "name": "stdout",
     "output_type": "stream",
     "text": [
      "12\n"
     ]
    }
   ],
   "source": [
    "print(len(df.columns))\n",
    "\n",
    "MONTHS = ['January', 'February', 'March', 'April', 'May', 'June', 'July', 'August', 'September', 'October', 'November', 'December']\n",
    "df.columns = MONTHS"
   ]
  },
  {
   "cell_type": "code",
   "execution_count": 342,
   "metadata": {},
   "outputs": [
    {
     "data": {
      "text/html": [
       "<div>\n",
       "<style scoped>\n",
       "    .dataframe tbody tr th:only-of-type {\n",
       "        vertical-align: middle;\n",
       "    }\n",
       "\n",
       "    .dataframe tbody tr th {\n",
       "        vertical-align: top;\n",
       "    }\n",
       "\n",
       "    .dataframe thead th {\n",
       "        text-align: right;\n",
       "    }\n",
       "</style>\n",
       "<table border=\"1\" class=\"dataframe\">\n",
       "  <thead>\n",
       "    <tr style=\"text-align: right;\">\n",
       "      <th></th>\n",
       "      <th>January</th>\n",
       "      <th>February</th>\n",
       "      <th>March</th>\n",
       "      <th>April</th>\n",
       "      <th>May</th>\n",
       "      <th>June</th>\n",
       "      <th>July</th>\n",
       "      <th>August</th>\n",
       "      <th>September</th>\n",
       "      <th>October</th>\n",
       "      <th>November</th>\n",
       "      <th>December</th>\n",
       "    </tr>\n",
       "    <tr>\n",
       "      <th>0</th>\n",
       "      <th></th>\n",
       "      <th></th>\n",
       "      <th></th>\n",
       "      <th></th>\n",
       "      <th></th>\n",
       "      <th></th>\n",
       "      <th></th>\n",
       "      <th></th>\n",
       "      <th></th>\n",
       "      <th></th>\n",
       "      <th></th>\n",
       "      <th></th>\n",
       "    </tr>\n",
       "  </thead>\n",
       "  <tbody>\n",
       "    <tr>\n",
       "      <th>1</th>\n",
       "      <td>35</td>\n",
       "      <td>33</td>\n",
       "      <td>35</td>\n",
       "      <td>40</td>\n",
       "      <td>85</td>\n",
       "      <td>77</td>\n",
       "      <td>76</td>\n",
       "      <td>76</td>\n",
       "      <td>76</td>\n",
       "      <td>85</td>\n",
       "      <td>49</td>\n",
       "      <td>49</td>\n",
       "    </tr>\n",
       "    <tr>\n",
       "      <th>2</th>\n",
       "      <td>35</td>\n",
       "      <td>33</td>\n",
       "      <td>43</td>\n",
       "      <td>51</td>\n",
       "      <td>85</td>\n",
       "      <td>78</td>\n",
       "      <td>73</td>\n",
       "      <td>78</td>\n",
       "      <td>78</td>\n",
       "      <td>80</td>\n",
       "      <td>47</td>\n",
       "      <td>59</td>\n",
       "    </tr>\n",
       "    <tr>\n",
       "      <th>3</th>\n",
       "      <td>33</td>\n",
       "      <td>36</td>\n",
       "      <td>59</td>\n",
       "      <td>71</td>\n",
       "      <td>73</td>\n",
       "      <td>87</td>\n",
       "      <td>86</td>\n",
       "      <td>83</td>\n",
       "      <td>75</td>\n",
       "      <td>76</td>\n",
       "      <td>45</td>\n",
       "      <td>51</td>\n",
       "    </tr>\n",
       "    <tr>\n",
       "      <th>4</th>\n",
       "      <td>30</td>\n",
       "      <td>39</td>\n",
       "      <td>37</td>\n",
       "      <td>76</td>\n",
       "      <td>58</td>\n",
       "      <td>91</td>\n",
       "      <td>89</td>\n",
       "      <td>85</td>\n",
       "      <td>73</td>\n",
       "      <td>73</td>\n",
       "      <td>47</td>\n",
       "      <td>44</td>\n",
       "    </tr>\n",
       "    <tr>\n",
       "      <th>5</th>\n",
       "      <td>37</td>\n",
       "      <td>19</td>\n",
       "      <td>49</td>\n",
       "      <td>76</td>\n",
       "      <td>61</td>\n",
       "      <td>92</td>\n",
       "      <td>91</td>\n",
       "      <td>87</td>\n",
       "      <td>82</td>\n",
       "      <td>67</td>\n",
       "      <td>52</td>\n",
       "      <td>41</td>\n",
       "    </tr>\n",
       "  </tbody>\n",
       "</table>\n",
       "</div>"
      ],
      "text/plain": [
       "   January February  March April  May June  July  August September  October  \\\n",
       "0                                                                             \n",
       "1       35       33     35    40   85   77    76      76        76       85   \n",
       "2       35       33     43    51   85   78    73      78        78       80   \n",
       "3       33       36     59    71   73   87    86      83        75       76   \n",
       "4       30       39     37    76   58   91    89      85        73       73   \n",
       "5       37       19     49    76   61   92    91      87        82       67   \n",
       "\n",
       "  November  December  \n",
       "0                     \n",
       "1       49        49  \n",
       "2       47        59  \n",
       "3       45        51  \n",
       "4       47        44  \n",
       "5       52        41  "
      ]
     },
     "execution_count": 342,
     "metadata": {},
     "output_type": "execute_result"
    }
   ],
   "source": [
    "df.head()"
   ]
  },
  {
   "cell_type": "code",
   "execution_count": 343,
   "metadata": {},
   "outputs": [
    {
     "name": "stdout",
     "output_type": "stream",
     "text": [
      "January [35 33 30 37 39 38 36 29 41 40 34 32 27 26]\n",
      "February ['33' '36' '39' '19' '12' '5' '15' '18' '16' '21' '17' '4' '20' '27' '26'\n",
      " '29' '37' '40' '47' '45' '43' '52' '49' 'M' '-']\n",
      "March [35 43 59 37 49 48 52 62 69 64 54 40 38 39 45 58 65 68 50 66 51 44]\n",
      "April ['40' '51' '71' '76' '81' '82' '69' '62' '55' '56' '54' '57' '52' '43'\n",
      " '50' '60' '64' '47' '79' '87' '-']\n",
      "May [85 73 58 61 56 60 54 57 52 62 70 71 72 76 75 86 88 82 90 59 49 69]\n",
      "June ['77' '78' '87' '91' '92' '89' '80' '90' '93' '83' '88' '82' '72' '73'\n",
      " '79' '76' '84' '-']\n",
      "July [76 73 86 89 91 68 71 74 80 84 79 77 82 85 88 75 92 90 94 87]\n",
      "August [76 78 83 85 87 89 92 93 88 84 80 86 91 95 94 90 82]\n",
      "September ['76' '78' '75' '73' '82' '88' '79' '77' '80' '87' '86' '89' '63' '67'\n",
      " '69' '83' '-']\n",
      "October [85 80 76 73 67 68 75 79 77 65 71 62 59 66 72 56 51 55 57 53]\n",
      "November ['49' '47' '45' '52' '59' '65' '58' '56' '57' '43' '39' '37' '36' '61'\n",
      " '40' '50' '55' '53' '48' '31' '42' '41' '-']\n",
      "December [49 59 51 44 41 38 26 35 46 60 58 48 54 66 40 37 42 31 57 55 43 36]\n"
     ]
    }
   ],
   "source": [
    "for col in df.columns:\n",
    "    print(col, df[col].unique())"
   ]
  },
  {
   "cell_type": "code",
   "execution_count": 344,
   "metadata": {},
   "outputs": [],
   "source": [
    "df.replace(['M'], np.NaN, inplace=True)"
   ]
  },
  {
   "cell_type": "code",
   "execution_count": 345,
   "metadata": {},
   "outputs": [],
   "source": [
    "def fahrenheit_to_celcius(f):\n",
    "    if f == \"-\":\n",
    "        return f\n",
    "    return (float(f) - 32) * 5./9\n",
    "\n",
    "df = df.applymap(fahrenheit_to_celcius)"
   ]
  },
  {
   "cell_type": "code",
   "execution_count": 346,
   "metadata": {},
   "outputs": [],
   "source": [
    "prod = itertools.product(MONTHS, df.index)\n",
    "# new_index = [\" \".join([str(col), str(ind)]) for col, ind in prod if df.loc[ind, col] != \"-\"]\n",
    "new_index = [\" \".join([str(col), str(ind)]) for col, ind in prod]"
   ]
  },
  {
   "cell_type": "code",
   "execution_count": 347,
   "metadata": {},
   "outputs": [
    {
     "data": {
      "text/html": [
       "<div>\n",
       "<style scoped>\n",
       "    .dataframe tbody tr th:only-of-type {\n",
       "        vertical-align: middle;\n",
       "    }\n",
       "\n",
       "    .dataframe tbody tr th {\n",
       "        vertical-align: top;\n",
       "    }\n",
       "\n",
       "    .dataframe thead th {\n",
       "        text-align: right;\n",
       "    }\n",
       "</style>\n",
       "<table border=\"1\" class=\"dataframe\">\n",
       "  <thead>\n",
       "    <tr style=\"text-align: right;\">\n",
       "      <th></th>\n",
       "      <th></th>\n",
       "      <th>0</th>\n",
       "    </tr>\n",
       "    <tr>\n",
       "      <th></th>\n",
       "      <th>0</th>\n",
       "      <th></th>\n",
       "    </tr>\n",
       "  </thead>\n",
       "  <tbody>\n",
       "    <tr>\n",
       "      <th rowspan=\"5\" valign=\"top\">January</th>\n",
       "      <th>1</th>\n",
       "      <td>1.666667</td>\n",
       "    </tr>\n",
       "    <tr>\n",
       "      <th>2</th>\n",
       "      <td>1.666667</td>\n",
       "    </tr>\n",
       "    <tr>\n",
       "      <th>3</th>\n",
       "      <td>0.555556</td>\n",
       "    </tr>\n",
       "    <tr>\n",
       "      <th>4</th>\n",
       "      <td>-1.111111</td>\n",
       "    </tr>\n",
       "    <tr>\n",
       "      <th>5</th>\n",
       "      <td>2.777778</td>\n",
       "    </tr>\n",
       "  </tbody>\n",
       "</table>\n",
       "</div>"
      ],
      "text/plain": [
       "                  0\n",
       "        0          \n",
       "January 1  1.666667\n",
       "        2  1.666667\n",
       "        3  0.555556\n",
       "        4 -1.111111\n",
       "        5  2.777778"
      ]
     },
     "execution_count": 347,
     "metadata": {},
     "output_type": "execute_result"
    }
   ],
   "source": [
    "# pd.wide_to_long(df=df, stubnames=['2021'], i=df.columns, j=\"temperature\")\n",
    "df = df.transpose().stack()\n",
    "df = pd.DataFrame(df)\n",
    "df.head()"
   ]
  },
  {
   "cell_type": "code",
   "execution_count": 348,
   "metadata": {},
   "outputs": [
    {
     "name": "stdout",
     "output_type": "stream",
     "text": [
      "371 372\n"
     ]
    }
   ],
   "source": [
    "indexes = list(df.index.values)\n",
    "curr_index = [\" \".join([str(col), str(ind)]) for col, ind in indexes]\n",
    "print(curr_index.__len__(), new_index.__len__())\n",
    "\n",
    "new_index.remove('February 29')\n",
    "\n",
    "compare = pd.DataFrame({'current': curr_index, 'new': new_index})"
   ]
  },
  {
   "cell_type": "code",
   "execution_count": 349,
   "metadata": {},
   "outputs": [
    {
     "data": {
      "text/html": [
       "<div>\n",
       "<style scoped>\n",
       "    .dataframe tbody tr th:only-of-type {\n",
       "        vertical-align: middle;\n",
       "    }\n",
       "\n",
       "    .dataframe tbody tr th {\n",
       "        vertical-align: top;\n",
       "    }\n",
       "\n",
       "    .dataframe thead th {\n",
       "        text-align: right;\n",
       "    }\n",
       "</style>\n",
       "<table border=\"1\" class=\"dataframe\">\n",
       "  <thead>\n",
       "    <tr style=\"text-align: right;\">\n",
       "      <th></th>\n",
       "      <th>max_temperature</th>\n",
       "    </tr>\n",
       "  </thead>\n",
       "  <tbody>\n",
       "    <tr>\n",
       "      <th>January 1</th>\n",
       "      <td>1.666667</td>\n",
       "    </tr>\n",
       "    <tr>\n",
       "      <th>January 2</th>\n",
       "      <td>1.666667</td>\n",
       "    </tr>\n",
       "    <tr>\n",
       "      <th>January 3</th>\n",
       "      <td>0.555556</td>\n",
       "    </tr>\n",
       "    <tr>\n",
       "      <th>January 4</th>\n",
       "      <td>-1.111111</td>\n",
       "    </tr>\n",
       "    <tr>\n",
       "      <th>January 5</th>\n",
       "      <td>2.777778</td>\n",
       "    </tr>\n",
       "  </tbody>\n",
       "</table>\n",
       "</div>"
      ],
      "text/plain": [
       "          max_temperature\n",
       "January 1        1.666667\n",
       "January 2        1.666667\n",
       "January 3        0.555556\n",
       "January 4       -1.111111\n",
       "January 5        2.777778"
      ]
     },
     "execution_count": 349,
     "metadata": {},
     "output_type": "execute_result"
    }
   ],
   "source": [
    "df.columns = df.columns.to_flat_index()\n",
    "df.index = new_index\n",
    "df.columns = ['max_temperature']\n",
    "df.drop(index=df.loc[df['max_temperature']==\"-\"].index, inplace=True)\n",
    "df.head()"
   ]
  },
  {
   "cell_type": "code",
   "execution_count": 350,
   "metadata": {},
   "outputs": [],
   "source": [
    "df.index = [date + \", 2021\" for date in df.index.values]\n",
    "df.index.rename(name='date', inplace=True)"
   ]
  },
  {
   "cell_type": "code",
   "execution_count": 351,
   "metadata": {},
   "outputs": [],
   "source": [
    "df.to_csv(output)"
   ]
  }
 ],
 "metadata": {
  "kernelspec": {
   "display_name": "Python 3.9.13 ('ds-env')",
   "language": "python",
   "name": "python3"
  },
  "language_info": {
   "codemirror_mode": {
    "name": "ipython",
    "version": 3
   },
   "file_extension": ".py",
   "mimetype": "text/x-python",
   "name": "python",
   "nbconvert_exporter": "python",
   "pygments_lexer": "ipython3",
   "version": "3.9.13"
  },
  "orig_nbformat": 4,
  "vscode": {
   "interpreter": {
    "hash": "50d0380861f23b593d520040a66e7a725c6f22b71f0b66fe8e911c9f7b422174"
   }
  }
 },
 "nbformat": 4,
 "nbformat_minor": 2
}
